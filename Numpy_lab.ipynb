{
 "cells": [
  {
   "cell_type": "raw",
   "id": "0de4bcbf-2bfd-4e10-9045-eb33839b74f9",
   "metadata": {},
   "source": [
    "# numpy exercises\n",
    "\n",
    "#### 1. Import the numpy package under the name `np` (★☆☆)\n",
    "`hint: import … as`\n",
    "\n",
    "#### 2. Create a null vector of size 10 (★☆☆)\n",
    "`hint: np.zeros`\n",
    "\n",
    "#### 3. Create a null vector of size 10 but the fifth value which is 1 (★☆☆)\n",
    "`hint: array[4]`\n",
    "\n",
    "#### 4. Create a vector with values ranging from 10 to 49 (★☆☆)\n",
    "`hint: arange`\n",
    "\n",
    "#### 5. Create a 3x3 matrix with values ranging from 0 to 8 (★☆☆)\n",
    "`hint: reshape`\n",
    "\n",
    "#### 6. Find indices of non-zero elements from [1,2,0,0,4,0] (★☆☆)\n",
    "`hint: np.nonzero`\n",
    "\n",
    "#### 7. Create a 3x3 identity matrix (★☆☆)\n",
    "`hint: np.eye`\n",
    "\n",
    "#### 8. Create a 3x3x3 array with random values (★☆☆)\n",
    "`hint: np.random.random`\n",
    "\n",
    "#### 9. Create a 10x10 array with random values and find the minimum and maximum values (★☆☆)\n",
    "`hint: min, max`\n",
    "\n",
    "#### 10. Create a random vector of size 30 and find the mean value (★☆☆)\n",
    "`hint: mean`\n",
    "\n",
    "#### 11. Create a 5x5 matrix with values 1,2,3,4 just below the diagonal (★☆☆)\n",
    "`hint: np.diag`\n",
    "\n",
    "#### 12. Normalize a 5x5 random matrix (★☆☆)\n",
    "`hint: (x -mean)/std`\n",
    "\n",
    "#### 13. How to find common values between two arrays? (★☆☆)\n",
    "`hint: np.intersect1d`\n",
    "\n",
    "#### 14. Create a random vector of size 10 and sort it (★★☆)\n",
    "`hint: sort`\n",
    "\n",
    "#### 15. Create random vector of size 10 and replace the maximum value by 0 (★★☆)\n",
    "`hint: argmax`\n",
    "\n",
    "#### 16. Subtract the mean of each row of a matrix (★★☆)\n",
    "`hint: mean(axis=,keepdims=)`\n",
    "\n",
    "#### 17. How to get the n largest values of an array (★★★)\n",
    "`Z = np.arange(10000)\n",
    "np.random.shuffle(Z)\n",
    "n = 5\n",
    "hint: np.argsort | np.argpartition`\n",
    "\n",
    "#### 18. Create a random 5*3 matrix and replace items that are larger than 4 by their squares ( Example:  6 --> 36) \n",
    "`hint: np.where`"
   ]
  },
  {
   "cell_type": "code",
   "execution_count": 4,
   "id": "7e38e8e5-4eae-4757-a65d-68191696254a",
   "metadata": {},
   "outputs": [],
   "source": [
    "#### 1. Import the numpy package under the name `np` (★☆☆)\n",
    "import numpy as np\n"
   ]
  },
  {
   "cell_type": "code",
   "execution_count": 10,
   "id": "6b78b464-a0e6-4772-a6bd-49de9ba07c03",
   "metadata": {},
   "outputs": [
    {
     "name": "stdout",
     "output_type": "stream",
     "text": [
      "[[0. 0. 0. 0. 0. 0. 0. 0. 0. 0.]] \n",
      "\n"
     ]
    },
    {
     "data": {
      "text/plain": [
       "10"
      ]
     },
     "execution_count": 10,
     "metadata": {},
     "output_type": "execute_result"
    }
   ],
   "source": [
    "#### 2. Create a null vector of size 10 (★☆☆)\n",
    "a = np.zeros((1, 10))  # Create an array of all zeros\n",
    "print(a, \"\\n\")\n",
    "a.size"
   ]
  },
  {
   "cell_type": "code",
   "execution_count": 24,
   "id": "a75913dc-8b27-49a1-be7d-e1d31396d64a",
   "metadata": {},
   "outputs": [
    {
     "name": "stdout",
     "output_type": "stream",
     "text": [
      "[[0. 0. 0. 0. 1. 0. 0. 0. 0. 0.]]\n"
     ]
    }
   ],
   "source": [
    "#### 3. Create a null vector of size 10 but the fifth value which is 1 (★☆☆)\n",
    "b = np.zeros((1, 10)) \n",
    "b[0,4] = 1\n",
    "print(b)"
   ]
  },
  {
   "cell_type": "code",
   "execution_count": 34,
   "id": "9e159de7-12e8-4bae-ba70-27e05c076078",
   "metadata": {},
   "outputs": [
    {
     "name": "stdout",
     "output_type": "stream",
     "text": [
      "[10 11 12 13 14 15 16 17 18 19 20 21 22 23 24 25 26 27 28 29 30 31 32 33\n",
      " 34 35 36 37 38 39 40 41 42 43 44 45 46 47 48 49]\n"
     ]
    }
   ],
   "source": [
    "#### 4. Create a vector with values ranging from 10 to 49 (★☆☆)\n",
    "c = np.arange(10,50)\n",
    "print(c)"
   ]
  },
  {
   "cell_type": "code",
   "execution_count": 38,
   "id": "61cd7a79-ddf1-4998-8f6f-09e8ec45c87c",
   "metadata": {},
   "outputs": [
    {
     "name": "stdout",
     "output_type": "stream",
     "text": [
      "[[0 1 2]\n",
      " [3 4 5]\n",
      " [6 7 8]]\n"
     ]
    }
   ],
   "source": [
    "#### 5. Create a 3x3 matrix with values ranging from 0 to 8 (★☆☆)\n",
    "d = np.arange(0,9).reshape(3,3)\n",
    "print(d)"
   ]
  },
  {
   "cell_type": "code",
   "execution_count": 46,
   "id": "dda6f82b-23df-4263-b499-c06f0774c81d",
   "metadata": {},
   "outputs": [
    {
     "name": "stdout",
     "output_type": "stream",
     "text": [
      "(array([0, 1, 4]),)\n"
     ]
    }
   ],
   "source": [
    "#### 6. Find indices of non-zero elements from [1,2,0,0,4,0] (★☆☆)\n",
    "\n",
    "e = np.array([1,2,0,0,4,0])\n",
    "print(e.nonzero())"
   ]
  },
  {
   "cell_type": "code",
   "execution_count": 58,
   "id": "696a047a-fc2b-4e4b-9b2f-ee1e68ade144",
   "metadata": {},
   "outputs": [
    {
     "data": {
      "text/plain": [
       "array([[1., 0., 0.],\n",
       "       [0., 1., 0.],\n",
       "       [0., 0., 1.]])"
      ]
     },
     "execution_count": 58,
     "metadata": {},
     "output_type": "execute_result"
    }
   ],
   "source": [
    "#### 7. Create a 3x3 identity matrix (★☆☆)\n",
    "d = np.arange(0,9).reshape(3,3)\n",
    "np.eye(N=3, M=3)\n"
   ]
  },
  {
   "cell_type": "code",
   "execution_count": 78,
   "id": "112fa225-4188-49fd-a4f7-d0ef0ea02f45",
   "metadata": {},
   "outputs": [
    {
     "name": "stdout",
     "output_type": "stream",
     "text": [
      "[[0.85891473 0.16393677 0.96465117]\n",
      " [0.14705478 0.69957702 0.22313703]\n",
      " [0.78858327 0.14426774 0.36828376]]\n"
     ]
    }
   ],
   "source": [
    "#### 8. Create a 3x3x3 array with random values (★☆☆)\n",
    "f = np.random.random(9).reshape(3,3)\n",
    "print(f)"
   ]
  },
  {
   "cell_type": "code",
   "execution_count": 88,
   "id": "00eb54ff-5637-4098-a5a2-57f7bc2269a5",
   "metadata": {},
   "outputs": [
    {
     "name": "stdout",
     "output_type": "stream",
     "text": [
      "0.012355992728505183\n",
      "0.9950629295382628\n"
     ]
    }
   ],
   "source": [
    "#### 9. Create a 10x10 array with random values and find the minimum and maximum values (★☆☆)\n",
    "g = np.random.random(100).reshape(10,10)\n",
    "print(g.min())\n",
    "print(g.max())"
   ]
  },
  {
   "cell_type": "code",
   "execution_count": 110,
   "id": "b1a44657-41ef-4b79-8cd6-0f1066320089",
   "metadata": {},
   "outputs": [
    {
     "data": {
      "text/plain": [
       "np.float64(0.4646233596473264)"
      ]
     },
     "execution_count": 110,
     "metadata": {},
     "output_type": "execute_result"
    }
   ],
   "source": [
    "#### 10. Create a random vector of size 30 and find the mean value (★☆☆)\n",
    "h = np.random.random(30)\n",
    "h.mean()"
   ]
  },
  {
   "cell_type": "code",
   "execution_count": 450,
   "id": "b18ca854-db95-4617-918d-54791a4fbe83",
   "metadata": {},
   "outputs": [
    {
     "name": "stdout",
     "output_type": "stream",
     "text": [
      "[[0 0 0 0 0]\n",
      " [1 0 0 0 0]\n",
      " [0 2 0 0 0]\n",
      " [0 0 3 0 0]\n",
      " [0 0 0 4 0]]\n"
     ]
    }
   ],
   "source": [
    "#### 11. Create a 5x5 matrix with values 1,2,3,4 just below the diagonal (★☆☆)\n",
    "i = np.diag([1,2,3,4], k=-1)\n",
    "print(i)"
   ]
  },
  {
   "cell_type": "code",
   "execution_count": 124,
   "id": "40e36e27-de76-40c4-9693-ecfa2f6e68f9",
   "metadata": {},
   "outputs": [
    {
     "data": {
      "text/plain": [
       "array([[ 1.2644843 , -1.28699752,  1.34602393, -1.09565816,  1.00005272],\n",
       "       [-0.75048713,  0.1812426 , -0.91443034, -0.96815694,  0.53773535],\n",
       "       [ 0.69215585, -0.80007684,  1.14241681,  0.09270145, -0.96068834],\n",
       "       [ 1.31474521,  1.3361035 , -0.73977463,  1.1975525 , -1.29665555],\n",
       "       [-0.25471179,  0.23786404,  1.08216406, -0.69421461, -1.66339048]])"
      ]
     },
     "execution_count": 124,
     "metadata": {},
     "output_type": "execute_result"
    }
   ],
   "source": [
    "#### 12. Normalize a 5x5 random matrix (★☆☆)\n",
    "j = np.random.random(25).reshape(5,5)\n",
    "(j-j.mean())/j.std()"
   ]
  },
  {
   "cell_type": "code",
   "execution_count": 128,
   "id": "01fb8d7f-79a5-454a-b251-10d74a146bca",
   "metadata": {},
   "outputs": [
    {
     "data": {
      "text/plain": [
       "array([ 2,  4,  5, 23, 97])"
      ]
     },
     "execution_count": 128,
     "metadata": {},
     "output_type": "execute_result"
    }
   ],
   "source": [
    "#### 13. How to find common values between two arrays? (★☆☆)\n",
    "array_1 = np.array([2,23,5,3,1,2,5,4,97])\n",
    "array_2 = np.array([94,23,5,99,22,2,5,4,97])\n",
    "np.intersect1d(array_1,array_2)"
   ]
  },
  {
   "cell_type": "code",
   "execution_count": 136,
   "id": "857caab6-73df-4981-a5ac-c778f0e31538",
   "metadata": {},
   "outputs": [
    {
     "name": "stdout",
     "output_type": "stream",
     "text": [
      "[0.98216108 0.8082641  0.5757299  0.06917915 0.12645824 0.86044953\n",
      " 0.25379508 0.90385357 0.26162548 0.52258429]\n",
      "[0.06917915 0.12645824 0.25379508 0.26162548 0.52258429 0.5757299\n",
      " 0.8082641  0.86044953 0.90385357 0.98216108]\n"
     ]
    }
   ],
   "source": [
    "#### 14. Create a random vector of size 10 and sort it (★★☆)\n",
    "k = np.random.random(10)\n",
    "k_sorted = np.sort(k)\n",
    "print(k)\n",
    "print(k_sorted)"
   ]
  },
  {
   "cell_type": "code",
   "execution_count": 164,
   "id": "cb7caf40-7d2c-4d2d-9169-3954f593c77c",
   "metadata": {},
   "outputs": [
    {
     "name": "stdout",
     "output_type": "stream",
     "text": [
      "[0.75695055 0.39897412 0.19620275 0.49106913 0.12771644 0.16999281\n",
      " 0.85723603 0.05036222 0.43543635 0.75242392]\n",
      "[0.75695055 0.39897412 0.19620275 0.49106913 0.12771644 0.16999281\n",
      " 0.         0.05036222 0.43543635 0.75242392]\n"
     ]
    }
   ],
   "source": [
    "#### 15. Create random vector of size 10 and replace the maximum value by 0 (★★☆)\n",
    "l = np.random.random(10)\n",
    "print(l)\n",
    "l[np.argmax(l)] = 0\n",
    "print(l)"
   ]
  },
  {
   "cell_type": "code",
   "execution_count": 218,
   "id": "74a95487-1641-4a15-8121-4f4d25d10fac",
   "metadata": {},
   "outputs": [
    {
     "name": "stdout",
     "output_type": "stream",
     "text": [
      "[[ 0  1  2  3  4]\n",
      " [ 5  6  7  8  9]\n",
      " [10 11 12 13 14]\n",
      " [15 16 17 18 19]\n",
      " [20 21 22 23 24]]\n",
      "[[-2. -1.  0.  1.  2.]\n",
      " [-2. -1.  0.  1.  2.]\n",
      " [-2. -1.  0.  1.  2.]\n",
      " [-2. -1.  0.  1.  2.]\n",
      " [-2. -1.  0.  1.  2.]]\n",
      "[ 2.  7. 12. 17. 22.]\n"
     ]
    }
   ],
   "source": [
    "#### 16. Subtract the mean of each row of a matrix (★★☆)\n",
    "np.random.seed(42)\n",
    "m = np.arange(25).reshape(5,5)\n",
    "print(m)\n",
    "m_new = m - m.mean(axis=1,keepdims=True)\n",
    "print(m_new)\n",
    "print(m.mean(axis=1))"
   ]
  },
  {
   "cell_type": "code",
   "execution_count": 388,
   "id": "ccbbf0ae-1647-4e51-b539-ce1f0c0bccda",
   "metadata": {
    "scrolled": true
   },
   "outputs": [
    {
     "data": {
      "text/plain": [
       "array([9995, 9996, 9997, 9998, 9999])"
      ]
     },
     "execution_count": 388,
     "metadata": {},
     "output_type": "execute_result"
    }
   ],
   "source": [
    "#### 17. How to get the n largest values of an array (★★★)\n",
    "np.random.seed(42)\n",
    "Z = np.arange(10000)\n",
    "np.random.shuffle(Z)\n",
    "n = 5\n",
    "Z[np.argsort(Z)][-n:]"
   ]
  },
  {
   "cell_type": "code",
   "execution_count": 402,
   "id": "b246e5fd-1bdd-47eb-80bf-362229954d3a",
   "metadata": {},
   "outputs": [
    {
     "name": "stdout",
     "output_type": "stream",
     "text": [
      "[[ 0  1  2]\n",
      " [ 3  4  5]\n",
      " [ 6  7  8]\n",
      " [ 9 10 11]\n",
      " [12 13 14]]\n"
     ]
    },
    {
     "data": {
      "text/plain": [
       "array([[  0,   1,   2],\n",
       "       [  3,   4,  25],\n",
       "       [ 36,  49,  64],\n",
       "       [ 81, 100, 121],\n",
       "       [144, 169, 196]])"
      ]
     },
     "execution_count": 402,
     "metadata": {},
     "output_type": "execute_result"
    }
   ],
   "source": [
    "#### 18. Create a random 5*3 matrix and replace items that are larger than 4 by their squares ( Example:  6 --> 36) \n",
    "np.random.seed(42)\n",
    "p = np.arange(15).reshape(5,3)\n",
    "print(p)\n",
    "np.where(p < 5, p, np.square(p))"
   ]
  }
 ],
 "metadata": {
  "kernelspec": {
   "display_name": "Python 3 (ipykernel)",
   "language": "python",
   "name": "python3"
  },
  "language_info": {
   "codemirror_mode": {
    "name": "ipython",
    "version": 3
   },
   "file_extension": ".py",
   "mimetype": "text/x-python",
   "name": "python",
   "nbconvert_exporter": "python",
   "pygments_lexer": "ipython3",
   "version": "3.10.15"
  }
 },
 "nbformat": 4,
 "nbformat_minor": 5
}
